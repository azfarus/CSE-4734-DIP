{
 "cells": [
  {
   "cell_type": "code",
   "execution_count": 3,
   "metadata": {},
   "outputs": [],
   "source": [
    "import cv2\n",
    "import matplotlib.pyplot as plt\n",
    "import numpy as np\n",
    "import skimage.io\n",
    "import skimage.color\n",
    "import skimage.filters\n",
    "from scipy import signal\n",
    "import random\n",
    "import colorsys\n",
    "from PIL import Image"
   ]
  },
  {
   "cell_type": "code",
   "execution_count": 23,
   "metadata": {},
   "outputs": [],
   "source": [
    "def erosion(image,kernel):\n",
    "\n",
    "\n",
    "\n",
    "    kw,kh=kernel.shape\n",
    "    iw,ih=image.shape\n",
    "\n",
    "    padtop,padbottom=(kw//2,kw//2)\n",
    "    padleft,padright=(kh//2,kh//2)\n",
    "\n",
    "    imagepadded=np.pad(image,((padtop,padbottom),(padleft,padright)))\n",
    "\n",
    "    output=np.zeros((iw,ih)).astype(np.float32)\n",
    "\n",
    "    for i in range(iw):\n",
    "        for j in range(ih):\n",
    "\n",
    "            pixels = np.sum(imagepadded[i:i+kw,j:j+kh])\n",
    "\n",
    "            if pixels  == kw*kh:\n",
    "                output[i,j] = True\n",
    "            else:\n",
    "                output[i,j] = False\n",
    "\n",
    "    return output\n",
    "\n",
    "def dilation(image,kernel):\n",
    "\n",
    "    kw,kh=kernel.shape\n",
    "    iw,ih=image.shape\n",
    "\n",
    "    padtop,padbottom=(kw//2,kw//2)\n",
    "    padleft,padright=(kh//2,kh//2)\n",
    "\n",
    "    imagepadded=np.pad(image,((padtop,padbottom),(padleft,padright)))\n",
    "\n",
    "    output=np.zeros((iw,ih)).astype(np.float32)\n",
    "\n",
    "    for i in range(iw):\n",
    "        for j in range(ih):\n",
    "\n",
    "            pixels = np.sum(imagepadded[i:i+kw,j:j+kh])\n",
    "\n",
    "            if pixels > 0:\n",
    "                output[i,j] = True\n",
    "            else:\n",
    "                output[i,j] = False\n",
    "\n",
    "    return output\n",
    "\n",
    "def load_image_as_np_array(filepath):\n",
    "    # Open the image file\n",
    "    img = Image.open(filepath)\n",
    "    \n",
    "    # Convert the image to a NumPy array\n",
    "    img_array = np.array(img)\n",
    "    \n",
    "    return img_array"
   ]
  },
  {
   "cell_type": "code",
   "execution_count": 28,
   "metadata": {},
   "outputs": [
    {
     "name": "stdout",
     "output_type": "stream",
     "text": [
      "[[False False False ... False  True  True]\n",
      " [False False False ... False False False]\n",
      " [False False False ... False False False]\n",
      " ...\n",
      " [False False False ... False False False]\n",
      " [False False False ... False False False]\n",
      " [False False False ... False False  True]]\n"
     ]
    },
    {
     "data": {
      "text/plain": [
       "<matplotlib.image.AxesImage at 0x17cb1424810>"
      ]
     },
     "execution_count": 28,
     "metadata": {},
     "output_type": "execute_result"
    },
    {
     "data": {
      "image/png": "[encoded data removed]",
      "text/plain": [
       "<Figure size 640x480 with 1 Axes>"
      ]
     },
     "metadata": {},
     "output_type": "display_data"
    }
   ],
   "source": [
    "filepath = 'ushape.tif'\n",
    "uimage = load_image_as_np_array(filepath)\n",
    "\n",
    "\n",
    "arr = np.ones(shape=(50,50))*255.0\n",
    "\n",
    "plt.imshow(erosion(uimage,arr),cmap='grey')"
   ]
  },
  {
   "cell_type": "code",
   "execution_count": null,
   "metadata": {},
   "outputs": [],
   "source": []
  }
 ],
 "metadata": {
  "kernelspec": {
   "display_name": "Python 3",
   "language": "python",
   "name": "python3"
  },
  "language_info": {
   "codemirror_mode": {
    "name": "ipython",
    "version": 3
   },
   "file_extension": ".py",
   "mimetype": "text/x-python",
   "name": "python",
   "nbconvert_exporter": "python",
   "pygments_lexer": "ipython3",
   "version": "3.11.5"
  }
 },
 "nbformat": 4,
 "nbformat_minor": 2
}
